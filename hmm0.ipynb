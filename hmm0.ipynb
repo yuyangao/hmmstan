{
 "cells": [
  {
   "cell_type": "code",
   "execution_count": null,
   "metadata": {},
   "outputs": [],
   "source": [
    "#  This program run nback model\n",
    "import numpy as np\n",
    "import stan\n",
    "import pickle\n",
    "from time import time\n",
    "import matplotlib.pyplot as plt"
   ]
  },
  {
   "cell_type": "code",
   "execution_count": null,
   "metadata": {},
   "outputs": [],
   "source": [
    "choice = np.loadtxt(\"demo_files/action.txt\", dtype=int)\n",
    "rewards = np.loadtxt(\"demo_files/rewards.txt\", dtype=int)\n",
    "T = 320\n",
    "init_Ps = np.full(2, 0.5)\n",
    "# pack the data\n",
    "data_dict = {\n",
    "    'T': T,\n",
    "    'choice' :list(choice),#这里应该把u_t/resp改为reward/action,其中action对应的就是category 的联结，reward即±1\n",
    "    'reward':list(rewards),\n",
    "    'init_Ps':init_Ps,\n",
    "}\n"
   ]
  },
  {
   "cell_type": "code",
   "execution_count": null,
   "metadata": {},
   "outputs": [],
   "source": [
    "hmm = '''\n",
    "data {\n",
    "    real mini; // to avoid p = 0 or 1-p=0,\n",
    "    int<lower=0> T; // 试次数量\n",
    "    array[T] int<lower=-1, upper=1> reward;\n",
    "    array[T] int<lower=1, upper=2> choice;\n",
    "    vector[2] init_Ps; // initial prob/belief of the two states\n",
    "}\n",
    "\n",
    "parameters {\n",
    "    real<lower=0, upper=1> gamma_pr;\n",
    "    real<lower=0.5, upper=1> c_pr;\n",
    "    real<lower=0.5, upper=1> d_pr;\n",
    "}\n",
    "\n",
    "transformed parameters {\n",
    "    real gamma;\n",
    "    real c;\n",
    "    real d;\n",
    "    \n",
    "    gamma = Phi_approx(gamma_pr);      // 将先验参数进行转换和归一化，以确保其满足所需的范围和约束条件。将输入值通过逆标准正态累积分布函数进行转换。范围（0-1）\n",
    "    c = Phi_approx(c_pr) * 0.5 + 0.5;  // 范围(0.5-1)\n",
    "    d = Phi_approx(d_pr) * 0.5 + 0.5;  // 范围(0.5-1)\n",
    "}\n",
    "\n",
    "model {\n",
    "    // prior of parameters\n",
    "    gamma_pr ~ normal(0, 1);\n",
    "    c_pr ~ normal(0.5, 1);\n",
    "    d_pr ~ normal(0.5, 1);\n",
    "\n",
    "    vector[2] Ps;       // prob of the states, 1 - yellow-cat(blue-dog), 2 - yellow-dog(blue-cat)\n",
    "    real P_O_S1;        // p(O|S1) - O = {A,R} given yellow-cat\n",
    "    real P_O_S2;        // p(O|S2) - O = {A,R} given yellow-dog\n",
    "    \n",
    "    // *******************compute ******************************\n",
    "    for (t in 1:T) {\n",
    "        // 使用 transition matrix 进行State update\n",
    "        // S[t-1] -- S[t]，obs之前\n",
    "        if (t == 1) {\n",
    "            Ps = init_Ps;\n",
    "        } else {\n",
    "            Ps[1] = Ps[1] * (1 - gamma) + Ps[2] * gamma;\n",
    "            Ps[2] = 1 - Ps[1];\n",
    "        }\n",
    "        \n",
    "        choice[t] ~ categorical(Ps);\n",
    "        \n",
    "        // renew of emission prob: p(O|S1) p(O|S2); O 为 A(ction) 和 R(eward)的组合\n",
    "        // --> the probability of actually observing this outcome\n",
    "        if (reward[t] == 1) {\n",
    "            P_O_S1 = 0.5 * ((choice[t] == 1) ? c : (1 - c));\n",
    "            P_O_S2 = 0.5 * ((choice[t] == 2) ? c : (1 - c));\n",
    "        } else if (reward[t] == -1) {\n",
    "            P_O_S1 = 0.5 * ((choice[t] == 1) ? (1 - d) : d);\n",
    "            P_O_S2 = 0.5 * ((choice[t] == 2) ? (1 - d) : d);\n",
    "        }\n",
    "\n",
    "        // State belief update\n",
    "        real prior1 = Ps[1];\n",
    "        Ps[1] = (P_O_S1 * prior1) / (P_O_S1 * prior1 + P_O_S2 * (1 - prior1));\n",
    "        Ps[2] = 1 - Ps[1];\n",
    "    }\n",
    "    }\n",
    "'''"
   ]
  },
  {
   "cell_type": "code",
   "execution_count": null,
   "metadata": {},
   "outputs": [],
   "source": [
    "sm = stan.build(hmm, data=data_dict)  # specify the model file"
   ]
  },
  {
   "cell_type": "code",
   "execution_count": null,
   "metadata": {},
   "outputs": [],
   "source": [
    "\n",
    "nChain = 4  # How Many Chains, depend on the # of cores of your computer. 4 seems good\n",
    "nWarmup = 10000  # How Many Burn-in Samples?\n",
    "nIter = 10000  # How Many Recorded Samples, including nWarmup samples\n",
    "save = True # whether save the fitting result or not\n",
    "watch_list = ['gamma', 'c', 'd']"
   ]
  },
  {
   "cell_type": "code",
   "execution_count": null,
   "metadata": {},
   "outputs": [],
   "source": [
    "t = time()\n",
    "\n",
    "fit = sm.sample(num_samples=nIter, num_warmup=nWarmup, num_chains=nChain)\n",
    "\n",
    "t = time()-t\n",
    "print(f'{t} sec')\n",
    "\n",
    "if save:\n",
    "   with open('test1.pkl', 'wb') as f:\n",
    "        pickle.dump(fit, f)"
   ]
  },
  {
   "cell_type": "code",
   "execution_count": null,
   "metadata": {},
   "outputs": [],
   "source": [
    "with open('test1.pkl', 'rb') as f:\n",
    "    fit = pickle.load(f)\n",
    "\n",
    "# Extract the samples for the desired parameters\n",
    "gamma_samples = fit['gamma']\n",
    "c_samples = fit['c']\n",
    "d_samples = fit['d']\n",
    "\n",
    "# Plot and save the parameter samples\n",
    "fig, ax = plt.subplots(3, 1, figsize=(8, 12))\n",
    "ax[0].plot(gamma_samples)\n",
    "ax[0].set_ylabel('gamma')\n",
    "ax[1].plot(c_samples)\n",
    "ax[1].set_ylabel('c')\n",
    "ax[2].plot(d_samples)\n",
    "ax[2].set_ylabel('d')\n",
    "\n",
    "# Adjust the layout to avoid overlapping labels\n",
    "fig.tight_layout()\n",
    "\n",
    "# Save the plot as an image file\n",
    "plt.savefig('parameter_samples.png')"
   ]
  }
 ],
 "metadata": {
  "language_info": {
   "name": "python"
  },
  "orig_nbformat": 4
 },
 "nbformat": 4,
 "nbformat_minor": 2
}
